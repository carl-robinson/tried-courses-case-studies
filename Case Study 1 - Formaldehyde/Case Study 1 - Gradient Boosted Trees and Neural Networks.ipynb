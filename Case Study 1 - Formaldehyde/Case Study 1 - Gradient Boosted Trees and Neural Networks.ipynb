{
 "cells": [
  {
   "cell_type": "markdown",
   "metadata": {},
   "source": [
    "<H1> Etude de cas - Exploratory data analysis </H1>"
   ]
  },
  {
   "cell_type": "code",
   "execution_count": 267,
   "metadata": {
    "collapsed": true
   },
   "outputs": [],
   "source": [
    "import pandas as pd\n",
    "import numpy as np\n",
    "import seaborn as sns\n",
    "import matplotlib.pyplot as plt\n",
    "import prince\n",
    "from sklearn import manifold \n",
    "import scipy \n",
    "from sklearn.cluster import KMeans\n",
    "from scipy.cluster.hierarchy import dendrogram, linkage\n",
    "from scipy.cluster.hierarchy import fcluster\n",
    "from sklearn.model_selection import cross_val_score\n",
    "\n",
    "import tensorflow\n",
    "from keras.models import Sequential\n",
    "from keras.layers import Dense, Activation\n",
    "from keras.utils import np_utils\n",
    "from keras.optimizers import SGD\n",
    "\n",
    "%matplotlib inline\n",
    "\n",
    "import warnings\n",
    "warnings.filterwarnings('ignore')"
   ]
  },
  {
   "cell_type": "markdown",
   "metadata": {},
   "source": [
    "<H3> Loading and arranging data set </H3>"
   ]
  },
  {
   "cell_type": "code",
   "execution_count": 268,
   "metadata": {},
   "outputs": [
    {
     "data": {
      "text/html": [
       "<div>\n",
       "<style scoped>\n",
       "    .dataframe tbody tr th:only-of-type {\n",
       "        vertical-align: middle;\n",
       "    }\n",
       "\n",
       "    .dataframe tbody tr th {\n",
       "        vertical-align: top;\n",
       "    }\n",
       "\n",
       "    .dataframe thead th {\n",
       "        text-align: right;\n",
       "    }\n",
       "</style>\n",
       "<table border=\"1\" class=\"dataframe\">\n",
       "  <thead>\n",
       "    <tr style=\"text-align: right;\">\n",
       "      <th></th>\n",
       "      <th>Deodorants.ICOS1</th>\n",
       "      <th>EauDeToilette.ICOS2</th>\n",
       "      <th>ProdSoinCheveux.ICOS3</th>\n",
       "      <th>ProdSoinVisage.ICOS4</th>\n",
       "      <th>VernisOngleDissolv.ICOS5</th>\n",
       "      <th>DesodoAutreEnsens.QPD2b</th>\n",
       "      <th>ACTIVITE</th>\n",
       "      <th>VoitureDansGarage.DGG3n</th>\n",
       "      <th>Fumeurs.FUMEURn</th>\n",
       "      <th>Plantes.QPV</th>\n",
       "      <th>...</th>\n",
       "      <th>Type_Prof</th>\n",
       "      <th>Occupation</th>\n",
       "      <th>Source_ppale_Res</th>\n",
       "      <th>Structure_menage</th>\n",
       "      <th>HSRF</th>\n",
       "      <th>NIACe1</th>\n",
       "      <th>CHEM1</th>\n",
       "      <th>DCA3e1</th>\n",
       "      <th>FC316</th>\n",
       "      <th>Formaldehyde_bin</th>\n",
       "    </tr>\n",
       "  </thead>\n",
       "  <tbody>\n",
       "    <tr>\n",
       "      <th>0</th>\n",
       "      <td>10.5</td>\n",
       "      <td>14.0</td>\n",
       "      <td>0.0</td>\n",
       "      <td>7.0</td>\n",
       "      <td>0.0</td>\n",
       "      <td>0.0</td>\n",
       "      <td>3.15</td>\n",
       "      <td>4</td>\n",
       "      <td>3</td>\n",
       "      <td>1</td>\n",
       "      <td>...</td>\n",
       "      <td>6</td>\n",
       "      <td>1</td>\n",
       "      <td>1</td>\n",
       "      <td>3</td>\n",
       "      <td>12</td>\n",
       "      <td>1914</td>\n",
       "      <td>1</td>\n",
       "      <td>3</td>\n",
       "      <td>1</td>\n",
       "      <td>2</td>\n",
       "    </tr>\n",
       "    <tr>\n",
       "      <th>1</th>\n",
       "      <td>14.0</td>\n",
       "      <td>14.0</td>\n",
       "      <td>1.0</td>\n",
       "      <td>7.0</td>\n",
       "      <td>0.5</td>\n",
       "      <td>0.0</td>\n",
       "      <td>5.25</td>\n",
       "      <td>4</td>\n",
       "      <td>2</td>\n",
       "      <td>2</td>\n",
       "      <td>...</td>\n",
       "      <td>4</td>\n",
       "      <td>1</td>\n",
       "      <td>1</td>\n",
       "      <td>2</td>\n",
       "      <td>70</td>\n",
       "      <td>1961</td>\n",
       "      <td>1</td>\n",
       "      <td>3</td>\n",
       "      <td>1</td>\n",
       "      <td>2</td>\n",
       "    </tr>\n",
       "    <tr>\n",
       "      <th>2</th>\n",
       "      <td>7.0</td>\n",
       "      <td>7.0</td>\n",
       "      <td>0.0</td>\n",
       "      <td>7.0</td>\n",
       "      <td>0.0</td>\n",
       "      <td>0.0</td>\n",
       "      <td>2.35</td>\n",
       "      <td>4</td>\n",
       "      <td>1</td>\n",
       "      <td>1</td>\n",
       "      <td>...</td>\n",
       "      <td>5</td>\n",
       "      <td>1</td>\n",
       "      <td>1</td>\n",
       "      <td>1</td>\n",
       "      <td>40</td>\n",
       "      <td>1914</td>\n",
       "      <td>1</td>\n",
       "      <td>3</td>\n",
       "      <td>1</td>\n",
       "      <td>1</td>\n",
       "    </tr>\n",
       "    <tr>\n",
       "      <th>3</th>\n",
       "      <td>0.0</td>\n",
       "      <td>1.0</td>\n",
       "      <td>0.5</td>\n",
       "      <td>7.0</td>\n",
       "      <td>1.0</td>\n",
       "      <td>0.0</td>\n",
       "      <td>2.10</td>\n",
       "      <td>4</td>\n",
       "      <td>1</td>\n",
       "      <td>1</td>\n",
       "      <td>...</td>\n",
       "      <td>3</td>\n",
       "      <td>1</td>\n",
       "      <td>1</td>\n",
       "      <td>2</td>\n",
       "      <td>75</td>\n",
       "      <td>1967</td>\n",
       "      <td>1</td>\n",
       "      <td>3</td>\n",
       "      <td>1</td>\n",
       "      <td>2</td>\n",
       "    </tr>\n",
       "    <tr>\n",
       "      <th>4</th>\n",
       "      <td>14.0</td>\n",
       "      <td>10.5</td>\n",
       "      <td>10.5</td>\n",
       "      <td>7.0</td>\n",
       "      <td>0.0</td>\n",
       "      <td>7.0</td>\n",
       "      <td>7.00</td>\n",
       "      <td>4</td>\n",
       "      <td>2</td>\n",
       "      <td>2</td>\n",
       "      <td>...</td>\n",
       "      <td>6</td>\n",
       "      <td>1</td>\n",
       "      <td>1</td>\n",
       "      <td>3</td>\n",
       "      <td>50</td>\n",
       "      <td>1974</td>\n",
       "      <td>1</td>\n",
       "      <td>2</td>\n",
       "      <td>1</td>\n",
       "      <td>1</td>\n",
       "    </tr>\n",
       "  </tbody>\n",
       "</table>\n",
       "<p>5 rows × 31 columns</p>\n",
       "</div>"
      ],
      "text/plain": [
       "   Deodorants.ICOS1  EauDeToilette.ICOS2  ProdSoinCheveux.ICOS3  \\\n",
       "0              10.5                 14.0                    0.0   \n",
       "1              14.0                 14.0                    1.0   \n",
       "2               7.0                  7.0                    0.0   \n",
       "3               0.0                  1.0                    0.5   \n",
       "4              14.0                 10.5                   10.5   \n",
       "\n",
       "   ProdSoinVisage.ICOS4  VernisOngleDissolv.ICOS5  DesodoAutreEnsens.QPD2b  \\\n",
       "0                   7.0                       0.0                      0.0   \n",
       "1                   7.0                       0.5                      0.0   \n",
       "2                   7.0                       0.0                      0.0   \n",
       "3                   7.0                       1.0                      0.0   \n",
       "4                   7.0                       0.0                      7.0   \n",
       "\n",
       "   ACTIVITE  VoitureDansGarage.DGG3n  Fumeurs.FUMEURn  Plantes.QPV  \\\n",
       "0      3.15                        4                3            1   \n",
       "1      5.25                        4                2            2   \n",
       "2      2.35                        4                1            1   \n",
       "3      2.10                        4                1            1   \n",
       "4      7.00                        4                2            2   \n",
       "\n",
       "         ...         Type_Prof  Occupation  Source_ppale_Res  \\\n",
       "0        ...                 6           1                 1   \n",
       "1        ...                 4           1                 1   \n",
       "2        ...                 5           1                 1   \n",
       "3        ...                 3           1                 1   \n",
       "4        ...                 6           1                 1   \n",
       "\n",
       "   Structure_menage  HSRF  NIACe1  CHEM1  DCA3e1  FC316  Formaldehyde_bin  \n",
       "0                 3    12    1914      1       3      1                 2  \n",
       "1                 2    70    1961      1       3      1                 2  \n",
       "2                 1    40    1914      1       3      1                 1  \n",
       "3                 2    75    1967      1       3      1                 2  \n",
       "4                 3    50    1974      1       2      1                 1  \n",
       "\n",
       "[5 rows x 31 columns]"
      ]
     },
     "execution_count": 268,
     "metadata": {},
     "output_type": "execute_result"
    }
   ],
   "source": [
    "data = pd.read_csv('final_df_kmeans.csv')\n",
    "data.drop(columns=['Unnamed: 0'], inplace=True)\n",
    "data.head()"
   ]
  },
  {
   "cell_type": "code",
   "execution_count": 269,
   "metadata": {
    "scrolled": true
   },
   "outputs": [
    {
     "name": "stdout",
     "output_type": "stream",
     "text": [
      "<class 'pandas.core.frame.DataFrame'>\n",
      "RangeIndex: 530 entries, 0 to 529\n",
      "Data columns (total 31 columns):\n",
      "Deodorants.ICOS1                     530 non-null float64\n",
      "EauDeToilette.ICOS2                  530 non-null float64\n",
      "ProdSoinCheveux.ICOS3                530 non-null float64\n",
      "ProdSoinVisage.ICOS4                 530 non-null float64\n",
      "VernisOngleDissolv.ICOS5             530 non-null float64\n",
      "DesodoAutreEnsens.QPD2b              530 non-null float64\n",
      "ACTIVITE                             530 non-null float64\n",
      "VoitureDansGarage.DGG3n              530 non-null int64\n",
      "Fumeurs.FUMEURn                      530 non-null int64\n",
      "Plantes.QPV                          530 non-null int64\n",
      "TraitementParasitesAnimaux.ANTCPn    530 non-null int64\n",
      "SortirOrduresExterieur.QOM1          530 non-null int64\n",
      "Bricolage.TMG6n                      530 non-null int64\n",
      "Jardinage.TMG7n                      530 non-null int64\n",
      "Age                                  530 non-null int64\n",
      "Revenus                              530 non-null int64\n",
      "Nb_Person                            530 non-null int64\n",
      "Nb_Enfants_inf_10                    530 non-null int64\n",
      "Nb_Enfants_sup_10                    530 non-null int64\n",
      "Sexe                                 530 non-null int64\n",
      "Diplome_Max                          530 non-null int64\n",
      "Type_Prof                            530 non-null int64\n",
      "Occupation                           530 non-null int64\n",
      "Source_ppale_Res                     530 non-null int64\n",
      "Structure_menage                     530 non-null int64\n",
      "HSRF                                 530 non-null int64\n",
      "NIACe1                               530 non-null int64\n",
      "CHEM1                                530 non-null int64\n",
      "DCA3e1                               530 non-null int64\n",
      "FC316                                530 non-null int64\n",
      "Formaldehyde_bin                     530 non-null int64\n",
      "dtypes: float64(7), int64(24)\n",
      "memory usage: 128.4 KB\n"
     ]
    }
   ],
   "source": [
    "data.info()"
   ]
  },
  {
   "cell_type": "code",
   "execution_count": 270,
   "metadata": {},
   "outputs": [
    {
     "data": {
      "text/html": [
       "<div>\n",
       "<style scoped>\n",
       "    .dataframe tbody tr th:only-of-type {\n",
       "        vertical-align: middle;\n",
       "    }\n",
       "\n",
       "    .dataframe tbody tr th {\n",
       "        vertical-align: top;\n",
       "    }\n",
       "\n",
       "    .dataframe thead th {\n",
       "        text-align: right;\n",
       "    }\n",
       "</style>\n",
       "<table border=\"1\" class=\"dataframe\">\n",
       "  <thead>\n",
       "    <tr style=\"text-align: right;\">\n",
       "      <th></th>\n",
       "      <th>Deodorants.ICOS1</th>\n",
       "      <th>EauDeToilette.ICOS2</th>\n",
       "      <th>ProdSoinCheveux.ICOS3</th>\n",
       "      <th>ProdSoinVisage.ICOS4</th>\n",
       "      <th>VernisOngleDissolv.ICOS5</th>\n",
       "      <th>DesodoAutreEnsens.QPD2b</th>\n",
       "      <th>ACTIVITE</th>\n",
       "      <th>NIACe1</th>\n",
       "      <th>HSRF</th>\n",
       "      <th>Age</th>\n",
       "      <th>Revenus</th>\n",
       "      <th>Formaldehyde_bin</th>\n",
       "    </tr>\n",
       "  </thead>\n",
       "  <tbody>\n",
       "    <tr>\n",
       "      <th>0</th>\n",
       "      <td>10.5</td>\n",
       "      <td>14.0</td>\n",
       "      <td>0.0</td>\n",
       "      <td>7.0</td>\n",
       "      <td>0.0</td>\n",
       "      <td>0.0</td>\n",
       "      <td>3.15</td>\n",
       "      <td>1914</td>\n",
       "      <td>12</td>\n",
       "      <td>43</td>\n",
       "      <td>817</td>\n",
       "      <td>2</td>\n",
       "    </tr>\n",
       "    <tr>\n",
       "      <th>1</th>\n",
       "      <td>14.0</td>\n",
       "      <td>14.0</td>\n",
       "      <td>1.0</td>\n",
       "      <td>7.0</td>\n",
       "      <td>0.5</td>\n",
       "      <td>0.0</td>\n",
       "      <td>5.25</td>\n",
       "      <td>1961</td>\n",
       "      <td>70</td>\n",
       "      <td>42</td>\n",
       "      <td>2349</td>\n",
       "      <td>2</td>\n",
       "    </tr>\n",
       "    <tr>\n",
       "      <th>2</th>\n",
       "      <td>7.0</td>\n",
       "      <td>7.0</td>\n",
       "      <td>0.0</td>\n",
       "      <td>7.0</td>\n",
       "      <td>0.0</td>\n",
       "      <td>0.0</td>\n",
       "      <td>2.35</td>\n",
       "      <td>1914</td>\n",
       "      <td>40</td>\n",
       "      <td>36</td>\n",
       "      <td>1299</td>\n",
       "      <td>1</td>\n",
       "    </tr>\n",
       "    <tr>\n",
       "      <th>3</th>\n",
       "      <td>0.0</td>\n",
       "      <td>1.0</td>\n",
       "      <td>0.5</td>\n",
       "      <td>7.0</td>\n",
       "      <td>1.0</td>\n",
       "      <td>0.0</td>\n",
       "      <td>2.10</td>\n",
       "      <td>1967</td>\n",
       "      <td>75</td>\n",
       "      <td>43</td>\n",
       "      <td>4249</td>\n",
       "      <td>2</td>\n",
       "    </tr>\n",
       "    <tr>\n",
       "      <th>4</th>\n",
       "      <td>14.0</td>\n",
       "      <td>10.5</td>\n",
       "      <td>10.5</td>\n",
       "      <td>7.0</td>\n",
       "      <td>0.0</td>\n",
       "      <td>7.0</td>\n",
       "      <td>7.00</td>\n",
       "      <td>1974</td>\n",
       "      <td>50</td>\n",
       "      <td>38</td>\n",
       "      <td>817</td>\n",
       "      <td>1</td>\n",
       "    </tr>\n",
       "  </tbody>\n",
       "</table>\n",
       "</div>"
      ],
      "text/plain": [
       "   Deodorants.ICOS1  EauDeToilette.ICOS2  ProdSoinCheveux.ICOS3  \\\n",
       "0              10.5                 14.0                    0.0   \n",
       "1              14.0                 14.0                    1.0   \n",
       "2               7.0                  7.0                    0.0   \n",
       "3               0.0                  1.0                    0.5   \n",
       "4              14.0                 10.5                   10.5   \n",
       "\n",
       "   ProdSoinVisage.ICOS4  VernisOngleDissolv.ICOS5  DesodoAutreEnsens.QPD2b  \\\n",
       "0                   7.0                       0.0                      0.0   \n",
       "1                   7.0                       0.5                      0.0   \n",
       "2                   7.0                       0.0                      0.0   \n",
       "3                   7.0                       1.0                      0.0   \n",
       "4                   7.0                       0.0                      7.0   \n",
       "\n",
       "   ACTIVITE  NIACe1  HSRF  Age  Revenus  Formaldehyde_bin  \n",
       "0      3.15    1914    12   43      817                 2  \n",
       "1      5.25    1961    70   42     2349                 2  \n",
       "2      2.35    1914    40   36     1299                 1  \n",
       "3      2.10    1967    75   43     4249                 2  \n",
       "4      7.00    1974    50   38      817                 1  "
      ]
     },
     "execution_count": 270,
     "metadata": {},
     "output_type": "execute_result"
    }
   ],
   "source": [
    "# get quant vars only\n",
    "data_quant = data[['Deodorants.ICOS1', 'EauDeToilette.ICOS2', 'ProdSoinCheveux.ICOS3', 'ProdSoinVisage.ICOS4', 'VernisOngleDissolv.ICOS5', 'DesodoAutreEnsens.QPD2b', 'ACTIVITE', 'NIACe1', 'HSRF', 'Age', 'Revenus', 'Formaldehyde_bin']]\n",
    "data_quant.head()"
   ]
  },
  {
   "cell_type": "code",
   "execution_count": 271,
   "metadata": {},
   "outputs": [
    {
     "data": {
      "text/html": [
       "<div>\n",
       "<style scoped>\n",
       "    .dataframe tbody tr th:only-of-type {\n",
       "        vertical-align: middle;\n",
       "    }\n",
       "\n",
       "    .dataframe tbody tr th {\n",
       "        vertical-align: top;\n",
       "    }\n",
       "\n",
       "    .dataframe thead th {\n",
       "        text-align: right;\n",
       "    }\n",
       "</style>\n",
       "<table border=\"1\" class=\"dataframe\">\n",
       "  <thead>\n",
       "    <tr style=\"text-align: right;\">\n",
       "      <th></th>\n",
       "      <th>VoitureDansGarage.DGG3n</th>\n",
       "      <th>Fumeurs.FUMEURn</th>\n",
       "      <th>Plantes.QPV</th>\n",
       "      <th>TraitementParasitesAnimaux.ANTCPn</th>\n",
       "      <th>SortirOrduresExterieur.QOM1</th>\n",
       "      <th>Bricolage.TMG6n</th>\n",
       "      <th>Jardinage.TMG7n</th>\n",
       "      <th>Nb_Person</th>\n",
       "      <th>Nb_Enfants_inf_10</th>\n",
       "      <th>Nb_Enfants_sup_10</th>\n",
       "      <th>Sexe</th>\n",
       "      <th>Diplome_Max</th>\n",
       "      <th>Type_Prof</th>\n",
       "      <th>Occupation</th>\n",
       "      <th>Source_ppale_Res</th>\n",
       "      <th>Structure_menage</th>\n",
       "      <th>CHEM1</th>\n",
       "      <th>DCA3e1</th>\n",
       "      <th>FC316</th>\n",
       "      <th>Formaldehyde_bin</th>\n",
       "    </tr>\n",
       "  </thead>\n",
       "  <tbody>\n",
       "    <tr>\n",
       "      <th>0</th>\n",
       "      <td>4</td>\n",
       "      <td>3</td>\n",
       "      <td>1</td>\n",
       "      <td>3</td>\n",
       "      <td>1</td>\n",
       "      <td>1</td>\n",
       "      <td>1</td>\n",
       "      <td>2</td>\n",
       "      <td>0</td>\n",
       "      <td>0</td>\n",
       "      <td>2</td>\n",
       "      <td>1</td>\n",
       "      <td>6</td>\n",
       "      <td>1</td>\n",
       "      <td>1</td>\n",
       "      <td>3</td>\n",
       "      <td>1</td>\n",
       "      <td>3</td>\n",
       "      <td>1</td>\n",
       "      <td>2</td>\n",
       "    </tr>\n",
       "    <tr>\n",
       "      <th>1</th>\n",
       "      <td>4</td>\n",
       "      <td>2</td>\n",
       "      <td>2</td>\n",
       "      <td>1</td>\n",
       "      <td>1</td>\n",
       "      <td>1</td>\n",
       "      <td>1</td>\n",
       "      <td>2</td>\n",
       "      <td>0</td>\n",
       "      <td>1</td>\n",
       "      <td>1</td>\n",
       "      <td>7</td>\n",
       "      <td>4</td>\n",
       "      <td>1</td>\n",
       "      <td>1</td>\n",
       "      <td>2</td>\n",
       "      <td>1</td>\n",
       "      <td>3</td>\n",
       "      <td>1</td>\n",
       "      <td>2</td>\n",
       "    </tr>\n",
       "    <tr>\n",
       "      <th>2</th>\n",
       "      <td>4</td>\n",
       "      <td>1</td>\n",
       "      <td>1</td>\n",
       "      <td>3</td>\n",
       "      <td>1</td>\n",
       "      <td>1</td>\n",
       "      <td>1</td>\n",
       "      <td>1</td>\n",
       "      <td>0</td>\n",
       "      <td>0</td>\n",
       "      <td>2</td>\n",
       "      <td>8</td>\n",
       "      <td>5</td>\n",
       "      <td>1</td>\n",
       "      <td>1</td>\n",
       "      <td>1</td>\n",
       "      <td>1</td>\n",
       "      <td>3</td>\n",
       "      <td>1</td>\n",
       "      <td>1</td>\n",
       "    </tr>\n",
       "    <tr>\n",
       "      <th>3</th>\n",
       "      <td>4</td>\n",
       "      <td>1</td>\n",
       "      <td>1</td>\n",
       "      <td>3</td>\n",
       "      <td>1</td>\n",
       "      <td>3</td>\n",
       "      <td>3</td>\n",
       "      <td>3</td>\n",
       "      <td>2</td>\n",
       "      <td>0</td>\n",
       "      <td>1</td>\n",
       "      <td>9</td>\n",
       "      <td>3</td>\n",
       "      <td>1</td>\n",
       "      <td>1</td>\n",
       "      <td>2</td>\n",
       "      <td>1</td>\n",
       "      <td>3</td>\n",
       "      <td>1</td>\n",
       "      <td>2</td>\n",
       "    </tr>\n",
       "    <tr>\n",
       "      <th>4</th>\n",
       "      <td>4</td>\n",
       "      <td>2</td>\n",
       "      <td>2</td>\n",
       "      <td>3</td>\n",
       "      <td>1</td>\n",
       "      <td>4</td>\n",
       "      <td>1</td>\n",
       "      <td>3</td>\n",
       "      <td>1</td>\n",
       "      <td>0</td>\n",
       "      <td>2</td>\n",
       "      <td>4</td>\n",
       "      <td>6</td>\n",
       "      <td>1</td>\n",
       "      <td>1</td>\n",
       "      <td>3</td>\n",
       "      <td>1</td>\n",
       "      <td>2</td>\n",
       "      <td>1</td>\n",
       "      <td>1</td>\n",
       "    </tr>\n",
       "  </tbody>\n",
       "</table>\n",
       "</div>"
      ],
      "text/plain": [
       "   VoitureDansGarage.DGG3n  Fumeurs.FUMEURn  Plantes.QPV  \\\n",
       "0                        4                3            1   \n",
       "1                        4                2            2   \n",
       "2                        4                1            1   \n",
       "3                        4                1            1   \n",
       "4                        4                2            2   \n",
       "\n",
       "   TraitementParasitesAnimaux.ANTCPn  SortirOrduresExterieur.QOM1  \\\n",
       "0                                  3                            1   \n",
       "1                                  1                            1   \n",
       "2                                  3                            1   \n",
       "3                                  3                            1   \n",
       "4                                  3                            1   \n",
       "\n",
       "   Bricolage.TMG6n  Jardinage.TMG7n  Nb_Person  Nb_Enfants_inf_10  \\\n",
       "0                1                1          2                  0   \n",
       "1                1                1          2                  0   \n",
       "2                1                1          1                  0   \n",
       "3                3                3          3                  2   \n",
       "4                4                1          3                  1   \n",
       "\n",
       "   Nb_Enfants_sup_10  Sexe  Diplome_Max  Type_Prof  Occupation  \\\n",
       "0                  0     2            1          6           1   \n",
       "1                  1     1            7          4           1   \n",
       "2                  0     2            8          5           1   \n",
       "3                  0     1            9          3           1   \n",
       "4                  0     2            4          6           1   \n",
       "\n",
       "   Source_ppale_Res  Structure_menage  CHEM1  DCA3e1  FC316  Formaldehyde_bin  \n",
       "0                 1                 3      1       3      1                 2  \n",
       "1                 1                 2      1       3      1                 2  \n",
       "2                 1                 1      1       3      1                 1  \n",
       "3                 1                 2      1       3      1                 2  \n",
       "4                 1                 3      1       2      1                 1  "
      ]
     },
     "execution_count": 271,
     "metadata": {},
     "output_type": "execute_result"
    }
   ],
   "source": [
    "# get qual vars only\n",
    "data_qual = data.drop(columns=['Deodorants.ICOS1', 'EauDeToilette.ICOS2', 'ProdSoinCheveux.ICOS3', 'ProdSoinVisage.ICOS4', 'VernisOngleDissolv.ICOS5', 'DesodoAutreEnsens.QPD2b', 'ACTIVITE', 'NIACe1', 'HSRF', 'Age', 'Revenus'])\n",
    "data_qual.head()"
   ]
  },
  {
   "cell_type": "code",
   "execution_count": 272,
   "metadata": {},
   "outputs": [
    {
     "name": "stdout",
     "output_type": "stream",
     "text": [
      "<class 'pandas.core.frame.DataFrame'>\n",
      "Int64Index: 325 entries, 0 to 528\n",
      "Data columns (total 13 columns):\n",
      "Deodorants.ICOS1            325 non-null float64\n",
      "EauDeToilette.ICOS2         325 non-null float64\n",
      "ProdSoinCheveux.ICOS3       325 non-null float64\n",
      "ProdSoinVisage.ICOS4        325 non-null float64\n",
      "VernisOngleDissolv.ICOS5    325 non-null float64\n",
      "DesodoAutreEnsens.QPD2b     325 non-null float64\n",
      "ACTIVITE                    325 non-null float64\n",
      "NIACe1                      325 non-null int64\n",
      "HSRF                        325 non-null int64\n",
      "Age                         325 non-null int64\n",
      "Revenus                     325 non-null int64\n",
      "Formaldehyde_bin            325 non-null int64\n",
      "cluster                     325 non-null int64\n",
      "dtypes: float64(7), int64(6)\n",
      "memory usage: 35.5 KB\n"
     ]
    }
   ],
   "source": [
    "# split into cluster groups\n",
    "cluster_df = pd.read_csv('clusters.csv')\n",
    "cluster_df.drop(columns=['Unnamed: 0'], inplace=True)\n",
    "\n",
    "# add to dfs\n",
    "data['cluster'] = cluster_df['cluster']\n",
    "data_quant['cluster'] = cluster_df['cluster']\n",
    "data_qual['cluster'] = cluster_df['cluster']\n",
    "\n",
    "# extract rows corresponding to each cluster and store in separate df variables\n",
    "clust1 = data_quant[data['cluster'] == 1]\n",
    "clust2 = data_quant[data['cluster'] == 2]\n",
    "clust3 = data_quant[(data['cluster'] == 3) | (data['cluster'] == 4)]\n",
    "# clust4 = data[data['cluster'] == 4]\n",
    "clust3.info()"
   ]
  },
  {
   "cell_type": "markdown",
   "metadata": {},
   "source": [
    "<H3> Gradient boosted regression trees </H3>"
   ]
  },
  {
   "cell_type": "code",
   "execution_count": 274,
   "metadata": {},
   "outputs": [
    {
     "name": "stdout",
     "output_type": "stream",
     "text": [
      "[ 0.44444444  0.66666667  0.55555556  0.55555556  0.55555556  0.57142857\n",
      "  0.71428571  0.33333333  0.5         0.33333333]\n",
      "0.523015873016\n",
      "[ 0.4         0.35714286  0.35714286  0.42857143  0.30769231  0.66666667\n",
      "  0.66666667  0.41666667  0.54545455  0.45454545]\n",
      "0.460054945055\n",
      "[ 0.38235294  0.32352941  0.42424242  0.42424242  0.42424242  0.3125\n",
      "  0.4375      0.5         0.5483871   0.35483871]\n",
      "0.413183543212\n"
     ]
    }
   ],
   "source": [
    "from sklearn.base import BaseEstimator\n",
    "from sklearn.tree import DecisionTreeClassifier\n",
    "from sklearn.preprocessing import scale\n",
    "from sklearn.preprocessing import OneHotEncoder\n",
    "from sklearn.model_selection import GridSearchCV\n",
    "from sklearn.model_selection import StratifiedShuffleSplit\n",
    "from sklearn import ensemble\n",
    "from sklearn.model_selection import train_test_split\n",
    "from sklearn.model_selection import KFold\n",
    "\n",
    "cluster_list = [clust1, clust2, clust3]\n",
    "\n",
    "# run gradient boosting on each cluster\n",
    "for clust in cluster_list:\n",
    "\n",
    "    # convert df to np arrays\n",
    "    # X = data.drop(columns=['Formaldehyde_bin']).values\n",
    "    X = clust.drop(columns=['Formaldehyde_bin', 'cluster']).values\n",
    "\n",
    "    X = X.astype(np.float32)\n",
    "    # print(X)\n",
    "    # y = data['Formaldehyde_bin'].values\n",
    "    y = clust['Formaldehyde_bin'].values\n",
    "    # print(y)\n",
    "\n",
    "    # split into train/test sets\n",
    "#     test_size = 0.2\n",
    "#     X_train, X_test, y_train, y_test = train_test_split(X, y, test_size=test_size, random_state=9)\n",
    "    # print(y_train)\n",
    "    # print(y_test)\n",
    "    \n",
    "    # Fit classifier with out-of-bag estimates\n",
    "    params = {'n_estimators': 150, 'max_depth': 5, 'subsample': 0.5,\n",
    "              'learning_rate': 0.04, 'min_samples_leaf': 2, 'max_features': 2, 'random_state': 42}\n",
    "    clf = ensemble.GradientBoostingClassifier(**params)\n",
    "    \n",
    "    cvscore = cross_val_score(clf, X, y, cv=10)\n",
    "    print(cvscore)\n",
    "    print(np.mean(cvscore))\n",
    "\n",
    "#     clf.fit(X_train, y_train)\n",
    "#     acc = clf.score(X_test, y_test)\n",
    "#     # acc = clf.score(X_train, y_train)\n",
    "#     print(\"Accuracy: {:.4f}\".format(acc))"
   ]
  },
  {
   "cell_type": "code",
   "execution_count": 263,
   "metadata": {},
   "outputs": [
    {
     "name": "stdout",
     "output_type": "stream",
     "text": [
      "Accuracy: 0.3396\n"
     ]
    }
   ],
   "source": [
    "# run gradient boosting on whole dataset\n",
    "# X = data.drop(columns=['Formaldehyde_bin', 'cluster']).values\n",
    "# y = data['Formaldehyde_bin'].values\n",
    "\n",
    "# X = data_quant.drop(columns=['Formaldehyde_bin', 'cluster']).values\n",
    "# y = data_quant['Formaldehyde_bin'].values\n",
    "\n",
    "# get 0.33 acc with just these two\n",
    "X = data_quant[['NIACe1', 'HSRF']]\n",
    "y = data_quant['Formaldehyde_bin'].values\n",
    "\n",
    "# X = data_qual.drop(columns=['Formaldehyde_bin', 'cluster']).values\n",
    "# y = data_qual['Formaldehyde_bin'].values\n",
    "\n",
    "# these 5 qual have same accuracy as ALL qual\n",
    "# X = data_qual[['VoitureDansGarage.DGG3n','Fumeurs.FUMEURn','Bricolage.TMG6n','Jardinage.TMG7n']].values\n",
    "# y = data_qual['Formaldehyde_bin'].values\n",
    "\n",
    "# split into train/test sets\n",
    "test_size = 0.2\n",
    "X_train, X_test, y_train, y_test = train_test_split(X, y, test_size=test_size, random_state=9)\n",
    "\n",
    "# Fit classifier with out-of-bag estimates\n",
    "params = {'n_estimators': 150, 'max_depth': 5, 'subsample': 0.5,\n",
    "          'learning_rate': 0.04, 'min_samples_leaf': 2, 'max_features': 2, 'random_state': 42}\n",
    "clf = ensemble.GradientBoostingClassifier(**params)\n",
    "\n",
    "cvscore = cross_val_score(clf, X_train, y_train, cv=10)\n",
    "print(cvscore)\n",
    "print(np.mean(cvscore))\n",
    "\n",
    "# clf.fit(X_train, y_train)\n",
    "# acc = clf.score(X_test, y_test)\n",
    "# # acc = clf.score(X_train, y_train)\n",
    "# print(\"Accuracy: {:.4f}\".format(acc))\n",
    "\n",
    "# X_train_pred = clf.predict(X_train)\n",
    "# print(X_train_pred)\n",
    "# print(y_train)\n",
    "\n",
    "# X_test_pred = clf.predict(X_test)\n",
    "# print(X_test_pred)\n",
    "# print(y_test)"
   ]
  },
  {
   "cell_type": "code",
   "execution_count": 138,
   "metadata": {},
   "outputs": [
    {
     "name": "stdout",
     "output_type": "stream",
     "text": [
      "Parameters, accuracy and score from Kernel:\n",
      "\n",
      "   Tuned Parameters: {'learning_rate': 0.04, 'max_depth': 5, 'max_features': 2, 'min_samples_leaf': 2, 'n_estimators': 150, 'subsample': 0.5}\n",
      "   Tuned Accuracy: 0.44150943396226416\n",
      "Accuracy of best model: 0.4151\n"
     ]
    }
   ],
   "source": [
    "# use gridsearch to find optimal values for params:\n",
    "# learningrate, subsample (sample bagging), max_features (feature bagging), n_estimators, max_depth\n",
    "\n",
    "# Define classifier with initial params\n",
    "init_params = {'n_estimators': 500, 'max_depth': 1, 'subsample': 0.1, 'learning_rate': 0.1, 'max_features': 1,\n",
    "               'min_samples_leaf': 1, 'random_state': 42}\n",
    "gbmodel = ensemble.GradientBoostingClassifier(**init_params)\n",
    "\n",
    "# Define sequences of parameters to try\n",
    "# n_estimators=[500, 1000, 2000, 4000]\n",
    "# max_depth=[1, 2, 3, 5, 10]\n",
    "# subsample=[0.1, 0.3, 0.5, 0.8]\n",
    "# learning_rate=[0.1, 0.3, 0.5, 0.8]\n",
    "# max_features=[1, 2, 3, 5, 10]\n",
    "# min_samples_leaf=[1, 2, 5]\n",
    "\n",
    "n_estimators=[150]\n",
    "max_depth=[5]\n",
    "subsample=[0.5]\n",
    "learning_rate=[0.04]\n",
    "max_features=[2]\n",
    "min_samples_leaf=[2]\n",
    "\n",
    "# add sequences to paramater grid for gridsearch\n",
    "param_grid = dict(n_estimators=n_estimators, max_depth=max_depth, subsample=subsample, learning_rate=learning_rate,\n",
    "                 max_features=max_features, min_samples_leaf=min_samples_leaf)\n",
    "\n",
    "# create stratified splits\n",
    "strat = StratifiedShuffleSplit(n_splits=5, test_size=0.2)\n",
    "\n",
    "# find the combination of parameters that produces the lowest error, and fit this model\n",
    "GB_cv = GridSearchCV(gbmodel, param_grid=param_grid, cv=strat)\n",
    "GB_cv.fit(Xtrain,y)\n",
    "\n",
    "# show the best parameters selected for the GB model\n",
    "print(\"Parameters, accuracy and score from Kernel:\")\n",
    "print(\"\")\n",
    "print(\"   Tuned Parameters: {}\".format(GB_cv.best_params_))\n",
    "print(\"   Tuned Accuracy: {}\".format(GB_cv.best_score_))\n",
    "\n",
    "# train the model with the best parameters\n",
    "GB_cv_best = ensemble.GradientBoostingClassifier(n_estimators=GB_cv.best_params_[\"n_estimators\"], \n",
    "                                    max_depth=GB_cv.best_params_[\"max_depth\"], \n",
    "                                    subsample=GB_cv.best_params_[\"subsample\"], \n",
    "                                    learning_rate=GB_cv.best_params_[\"learning_rate\"],\n",
    "                                    max_features=GB_cv.best_params_[\"max_features\"],\n",
    "                                    min_samples_leaf=GB_cv.best_params_[\"min_samples_leaf\"],\n",
    "                                    random_state=12)\n",
    "\n",
    "GB_cv_best.fit(X_train, y_train)\n",
    "acc = GB_cv_best.score(X_test, y_test)\n",
    "print(\"Accuracy of best model: {:.4f}\".format(acc))"
   ]
  },
  {
   "cell_type": "code",
   "execution_count": 88,
   "metadata": {},
   "outputs": [
    {
     "data": {
      "image/png": "[encoded data removed]",
      "text/plain": [
       "<matplotlib.figure.Figure at 0x1a1660ecc0>"
      ]
     },
     "metadata": {},
     "output_type": "display_data"
    }
   ],
   "source": [
    "# OOB estimation of number of iterations needed\n",
    "\n",
    "n_estimators = params['n_estimators']\n",
    "x = np.arange(n_estimators) + 1\n",
    "\n",
    "\n",
    "def heldout_score(clf, X_test, y_test):\n",
    "    \"\"\"compute deviance scores on ``X_test`` and ``y_test``. \"\"\"\n",
    "    score = np.zeros((n_estimators,), dtype=np.float64)\n",
    "    for i, y_pred in enumerate(clf.staged_decision_function(X_test)):\n",
    "        score[i] = clf.loss_(y_test, y_pred)\n",
    "    return score\n",
    "\n",
    "\n",
    "def cv_estimate(n_splits=3):\n",
    "    cv = KFold(n_splits=n_splits)\n",
    "    cv_clf = ensemble.GradientBoostingClassifier(**params)\n",
    "    val_scores = np.zeros((n_estimators,), dtype=np.float64)\n",
    "    for train, test in cv.split(X_train, y_train):\n",
    "        cv_clf.fit(X_train[train], y_train[train])\n",
    "        val_scores += heldout_score(cv_clf, X_train[test], y_train[test])\n",
    "    val_scores /= n_splits\n",
    "    return val_scores\n",
    "\n",
    "\n",
    "# Estimate best n_estimator using cross-validation\n",
    "cv_score = cv_estimate(3)\n",
    "\n",
    "# Compute best n_estimator for test data\n",
    "test_score = heldout_score(clf, X_test, y_test)\n",
    "\n",
    "# negative cumulative sum of oob improvements\n",
    "cumsum = -np.cumsum(clf.oob_improvement_)\n",
    "\n",
    "# min loss according to OOB\n",
    "oob_best_iter = x[np.argmin(cumsum)]\n",
    "\n",
    "# min loss according to test (normalize such that first loss is 0)\n",
    "test_score -= test_score[0]\n",
    "test_best_iter = x[np.argmin(test_score)]\n",
    "\n",
    "# min loss according to cv (normalize such that first loss is 0)\n",
    "cv_score -= cv_score[0]\n",
    "cv_best_iter = x[np.argmin(cv_score)]\n",
    "\n",
    "# color brew for the three curves\n",
    "oob_color = list(map(lambda x: x / 256.0, (190, 174, 212)))\n",
    "test_color = list(map(lambda x: x / 256.0, (127, 201, 127)))\n",
    "cv_color = list(map(lambda x: x / 256.0, (253, 192, 134)))\n",
    "\n",
    "# plot curves and vertical lines for best iterations\n",
    "fig = plt.figure(figsize=(8,6))\n",
    "plt.plot(x, cumsum, label='OOB loss', color=oob_color)\n",
    "plt.plot(x, test_score, label='Test loss', color=test_color)\n",
    "plt.plot(x, cv_score, label='CV loss', color=cv_color)\n",
    "plt.axvline(x=oob_best_iter, color=oob_color)\n",
    "plt.axvline(x=test_best_iter, color=test_color)\n",
    "plt.axvline(x=cv_best_iter, color=cv_color)\n",
    "\n",
    "# add three vertical lines to xticks\n",
    "xticks = plt.xticks()\n",
    "xticks_pos = np.array(xticks[0].tolist() +\n",
    "                      [oob_best_iter, cv_best_iter, test_best_iter])\n",
    "xticks_label = np.array(list(map(lambda t: int(t), xticks[0])) +\n",
    "                        ['OOB', 'CV', 'Test'])\n",
    "ind = np.argsort(xticks_pos)\n",
    "xticks_pos = xticks_pos[ind]\n",
    "xticks_label = xticks_label[ind]\n",
    "plt.xticks(xticks_pos, xticks_label, rotation=90)\n",
    "\n",
    "plt.legend(loc='upper right')\n",
    "plt.ylabel('normalized loss')\n",
    "plt.xlabel('number of iterations')\n",
    "\n",
    "plt.show()"
   ]
  },
  {
   "cell_type": "markdown",
   "metadata": {},
   "source": [
    "<h3>Histograms of CAH Clusters</h3>"
   ]
  },
  {
   "cell_type": "code",
   "execution_count": 18,
   "metadata": {
    "collapsed": true
   },
   "outputs": [],
   "source": [
    "# change cluster 4 into cluster 3 to merge\n",
    "data.loc[data['cluster'] == 4, 'cluster'] = 3"
   ]
  },
  {
   "cell_type": "code",
   "execution_count": 6,
   "metadata": {
    "scrolled": true
   },
   "outputs": [
    {
     "data": {
      "image/png": "[encoded data removed]",
      "text/plain": [
       "<matplotlib.figure.Figure at 0x1a1b453940>"
      ]
     },
     "metadata": {},
     "output_type": "display_data"
    },
    {
     "data": {
      "image/png": "[encoded data removed]",
      "text/plain": [
       "<matplotlib.figure.Figure at 0x1a24398dd8>"
      ]
     },
     "metadata": {},
     "output_type": "display_data"
    },
    {
     "data": {
      "image/png": "[encoded data removed]",
      "text/plain": [
       "<matplotlib.figure.Figure at 0x1a246b5a58>"
      ]
     },
     "metadata": {},
     "output_type": "display_data"
    },
    {
     "data": {
      "image/png": "[encoded data removed]",
      "text/plain": [
       "<matplotlib.figure.Figure at 0x1a248bec18>"
      ]
     },
     "metadata": {},
     "output_type": "display_data"
    },
    {
     "data": {
      "image/png": "[encoded data removed]",
      "text/plain": [
       "<matplotlib.figure.Figure at 0x1a24cdcc18>"
      ]
     },
     "metadata": {},
     "output_type": "display_data"
    },
    {
     "data": {
      "image/png": "[encoded data removed]",
      "text/plain": [
       "<matplotlib.figure.Figure at 0x1a24e33470>"
      ]
     },
     "metadata": {},
     "output_type": "display_data"
    },
    {
     "data": {
      "image/png": "[encoded data removed]",
      "text/plain": [
       "<matplotlib.figure.Figure at 0x1a250dc0b8>"
      ]
     },
     "metadata": {},
     "output_type": "display_data"
    },
    {
     "data": {
      "image/png": "[encoded data removed]",
      "text/plain": [
       "<matplotlib.figure.Figure at 0x1a25532978>"
      ]
     },
     "metadata": {},
     "output_type": "display_data"
    },
    {
     "data": {
      "image/png": "[encoded data removed]",
      "text/plain": [
       "<matplotlib.figure.Figure at 0x1a25853048>"
      ]
     },
     "metadata": {},
     "output_type": "display_data"
    },
    {
     "data": {
      "image/png": "[encoded data removed]",
      "text/plain": [
       "<matplotlib.figure.Figure at 0x1a25c2e6d8>"
      ]
     },
     "metadata": {},
     "output_type": "display_data"
    },
    {
     "data": {
      "image/png": "[encoded data removed]",
      "text/plain": [
       "<matplotlib.figure.Figure at 0x1a25ef8f98>"
      ]
     },
     "metadata": {},
     "output_type": "display_data"
    },
    {
     "data": {
      "image/png": "[encoded data removed]",
      "text/plain": [
       "<matplotlib.figure.Figure at 0x1a260e5d68>"
      ]
     },
     "metadata": {},
     "output_type": "display_data"
    },
    {
     "data": {
      "image/png": "[encoded data removed]",
      "text/plain": [
       "<matplotlib.figure.Figure at 0x1a26574e48>"
      ]
     },
     "metadata": {},
     "output_type": "display_data"
    },
    {
     "data": {
      "image/png": "[encoded data removed]",
      "text/plain": [
       "<matplotlib.figure.Figure at 0x1a268a9f28>"
      ]
     },
     "metadata": {},
     "output_type": "display_data"
    },
    {
     "data": {
      "image/png": "[encoded data removed]",
      "text/plain": [
       "<matplotlib.figure.Figure at 0x1a26a1f160>"
      ]
     },
     "metadata": {},
     "output_type": "display_data"
    },
    {
     "data": {
      "image/png": "[encoded data removed]",
      "text/plain": [
       "<matplotlib.figure.Figure at 0x1a26ea9e10>"
      ]
     },
     "metadata": {},
     "output_type": "display_data"
    },
    {
     "data": {
      "image/png": "[encoded data removed]",
      "text/plain": [
       "<matplotlib.figure.Figure at 0x1a27068160>"
      ]
     },
     "metadata": {},
     "output_type": "display_data"
    },
    {
     "data": {
      "image/png": "[encoded data removed]",
      "text/plain": [
       "<matplotlib.figure.Figure at 0x1a27398a20>"
      ]
     },
     "metadata": {},
     "output_type": "display_data"
    },
    {
     "data": {
      "image/png": "[encoded data removed]",
      "text/plain": [
       "<matplotlib.figure.Figure at 0x1a276eb358>"
      ]
     },
     "metadata": {},
     "output_type": "display_data"
    },
    {
     "data": {
      "image/png": "[encoded data removed]",
      "text/plain": [
       "<matplotlib.figure.Figure at 0x1a2799fac8>"
      ]
     },
     "metadata": {},
     "output_type": "display_data"
    },
    {
     "data": {
      "image/png": "[encoded data removed]",
      "text/plain": [
       "<matplotlib.figure.Figure at 0x1a27dafda0>"
      ]
     },
     "metadata": {},
     "output_type": "display_data"
    },
    {
     "data": {
      "image/png": "[encoded data removed]",
      "text/plain": [
       "<matplotlib.figure.Figure at 0x1a280063c8>"
      ]
     },
     "metadata": {},
     "output_type": "display_data"
    },
    {
     "data": {
      "image/png": "[encoded data removed]",
      "text/plain": [
       "<matplotlib.figure.Figure at 0x1a28321ba8>"
      ]
     },
     "metadata": {},
     "output_type": "display_data"
    },
    {
     "data": {
      "image/png": "[encoded data removed]",
      "text/plain": [
       "<matplotlib.figure.Figure at 0x1a2870bac8>"
      ]
     },
     "metadata": {},
     "output_type": "display_data"
    },
    {
     "data": {
      "image/png": "[encoded data removed]",
      "text/plain": [
       "<matplotlib.figure.Figure at 0x1a28a15e80>"
      ]
     },
     "metadata": {},
     "output_type": "display_data"
    },
    {
     "data": {
      "image/png": "[encoded data removed]",
      "text/plain": [
       "<matplotlib.figure.Figure at 0x1a28b6b828>"
      ]
     },
     "metadata": {},
     "output_type": "display_data"
    },
    {
     "data": {
      "image/png": "[encoded data removed]",
      "text/plain": [
       "<matplotlib.figure.Figure at 0x1a28ff6e10>"
      ]
     },
     "metadata": {},
     "output_type": "display_data"
    },
    {
     "data": {
      "image/png": "[encoded data removed]",
      "text/plain": [
       "<matplotlib.figure.Figure at 0x1a2931fcc0>"
      ]
     },
     "metadata": {},
     "output_type": "display_data"
    },
    {
     "data": {
      "image/png": "[encoded data removed]",
      "text/plain": [
       "<matplotlib.figure.Figure at 0x1a294e17b8>"
      ]
     },
     "metadata": {},
     "output_type": "display_data"
    },
    {
     "data": {
      "image/png": "[encoded data removed]",
      "text/plain": [
       "<matplotlib.figure.Figure at 0x1a2995aeb8>"
      ]
     },
     "metadata": {},
     "output_type": "display_data"
    },
    {
     "data": {
      "image/png": "[encoded data removed]",
      "text/plain": [
       "<matplotlib.figure.Figure at 0x1a29b72e48>"
      ]
     },
     "metadata": {},
     "output_type": "display_data"
    },
    {
     "data": {
      "image/png": "[encoded data removed]",
      "text/plain": [
       "<matplotlib.figure.Figure at 0x1a29e0ca20>"
      ]
     },
     "metadata": {},
     "output_type": "display_data"
    }
   ],
   "source": [
    "plt.style.use('seaborn-deep')\n",
    "\n",
    "for i, column in enumerate(data):\n",
    "    data[column].hist(figsize=(20, 2), by=data['cluster'], layout=(1, 3), sharey=True, sharex=True, normed=True);\n",
    "    plt.tight_layout()\n",
    "    plt.suptitle(column)\n",
    "    plt.savefig('{}_{}.png'.format(i, column))"
   ]
  },
  {
   "cell_type": "code",
   "execution_count": null,
   "metadata": {
    "collapsed": true
   },
   "outputs": [],
   "source": [
    "# plot graphs of people with formaldehyde=very_high\n",
    "formveryhigh = data[data['Formaldehyde_bin'] == 3]\n",
    "\n",
    "plt.style.use('seaborn-deep')\n",
    "plt.figure()\n",
    "\n",
    "for i, column in enumerate(formveryhigh):\n",
    "    formveryhigh[column].hist(figsize=(6, 2), by=data['Formaldehyde_bin'], layout=(1, 1), sharey=True, sharex=True, normed=True)\n",
    "    plt.tight_layout()\n",
    "    plt.suptitle(column)\n",
    "    plt.savefig('fvh_{}_{}.png'.format(i, column))"
   ]
  },
  {
   "cell_type": "markdown",
   "metadata": {},
   "source": [
    "<h3>Multiple Regression</h3>"
   ]
  },
  {
   "cell_type": "code",
   "execution_count": 292,
   "metadata": {
    "collapsed": true
   },
   "outputs": [],
   "source": [
    "# load the data\n",
    "data_orig = pd.read_csv('final_df.csv')\n",
    "data_orig.rename(columns={'Formldehyde':'Formaldehyde'}, inplace=True)\n",
    "\n",
    "X = data.drop(columns=['Formaldehyde_bin', 'cluster'])\n",
    "# X = data_orig[['NIACe1', 'Nb_Enfants_inf_10']]\n",
    "X = X.astype(np.float32)\n",
    "y = data_orig['Formaldehyde']\n",
    "\n",
    "# X = data_quant.drop(columns=['Formaldehyde_bin', 'cluster']).values\n",
    "# X = X.astype(np.float32)\n",
    "\n",
    "Xs = scale(X)\n",
    "ys = scale(y)"
   ]
  },
  {
   "cell_type": "code",
   "execution_count": 293,
   "metadata": {
    "scrolled": true
   },
   "outputs": [
    {
     "data": {
      "text/html": [
       "<table class=\"simpletable\">\n",
       "<caption>OLS Regression Results</caption>\n",
       "<tr>\n",
       "  <th>Dep. Variable:</th>            <td>y</td>        <th>  R-squared:         </th> <td>   0.136</td>\n",
       "</tr>\n",
       "<tr>\n",
       "  <th>Model:</th>                   <td>OLS</td>       <th>  Adj. R-squared:    </th> <td>   0.084</td>\n",
       "</tr>\n",
       "<tr>\n",
       "  <th>Method:</th>             <td>Least Squares</td>  <th>  F-statistic:       </th> <td>   2.615</td>\n",
       "</tr>\n",
       "<tr>\n",
       "  <th>Date:</th>             <td>Fri, 09 Feb 2018</td> <th>  Prob (F-statistic):</th> <td>1.05e-05</td>\n",
       "</tr>\n",
       "<tr>\n",
       "  <th>Time:</th>                 <td>14:31:18</td>     <th>  Log-Likelihood:    </th> <td> -713.35</td>\n",
       "</tr>\n",
       "<tr>\n",
       "  <th>No. Observations:</th>      <td>   530</td>      <th>  AIC:               </th> <td>   1489.</td>\n",
       "</tr>\n",
       "<tr>\n",
       "  <th>Df Residuals:</th>          <td>   499</td>      <th>  BIC:               </th> <td>   1621.</td>\n",
       "</tr>\n",
       "<tr>\n",
       "  <th>Df Model:</th>              <td>    30</td>      <th>                     </th>     <td> </td>   \n",
       "</tr>\n",
       "<tr>\n",
       "  <th>Covariance Type:</th>      <td>nonrobust</td>    <th>                     </th>     <td> </td>   \n",
       "</tr>\n",
       "</table>\n",
       "<table class=\"simpletable\">\n",
       "<tr>\n",
       "    <td></td>       <th>coef</th>     <th>std err</th>      <th>t</th>      <th>P>|t|</th>  <th>[0.025</th>    <th>0.975]</th>  \n",
       "</tr>\n",
       "<tr>\n",
       "  <th>const</th> <td> 1.041e-17</td> <td>    0.042</td> <td>  2.5e-16</td> <td> 1.000</td> <td>   -0.082</td> <td>    0.082</td>\n",
       "</tr>\n",
       "<tr>\n",
       "  <th>x1</th>    <td>    0.2602</td> <td>    0.097</td> <td>    2.685</td> <td> 0.007</td> <td>    0.070</td> <td>    0.451</td>\n",
       "</tr>\n",
       "<tr>\n",
       "  <th>x2</th>    <td>    0.0148</td> <td>    0.083</td> <td>    0.178</td> <td> 0.859</td> <td>   -0.149</td> <td>    0.178</td>\n",
       "</tr>\n",
       "<tr>\n",
       "  <th>x3</th>    <td>    0.0950</td> <td>    0.064</td> <td>    1.479</td> <td> 0.140</td> <td>   -0.031</td> <td>    0.221</td>\n",
       "</tr>\n",
       "<tr>\n",
       "  <th>x4</th>    <td>    0.0081</td> <td>    0.082</td> <td>    0.098</td> <td> 0.922</td> <td>   -0.153</td> <td>    0.169</td>\n",
       "</tr>\n",
       "<tr>\n",
       "  <th>x5</th>    <td>   -0.0742</td> <td>    0.049</td> <td>   -1.512</td> <td> 0.131</td> <td>   -0.171</td> <td>    0.022</td>\n",
       "</tr>\n",
       "<tr>\n",
       "  <th>x6</th>    <td>   -0.0025</td> <td>    0.043</td> <td>   -0.057</td> <td> 0.954</td> <td>   -0.087</td> <td>    0.082</td>\n",
       "</tr>\n",
       "<tr>\n",
       "  <th>x7</th>    <td>   -0.2017</td> <td>    0.199</td> <td>   -1.012</td> <td> 0.312</td> <td>   -0.593</td> <td>    0.190</td>\n",
       "</tr>\n",
       "<tr>\n",
       "  <th>x8</th>    <td>   -0.0762</td> <td>    0.051</td> <td>   -1.480</td> <td> 0.139</td> <td>   -0.177</td> <td>    0.025</td>\n",
       "</tr>\n",
       "<tr>\n",
       "  <th>x9</th>    <td>   -0.0171</td> <td>    0.046</td> <td>   -0.376</td> <td> 0.707</td> <td>   -0.107</td> <td>    0.073</td>\n",
       "</tr>\n",
       "<tr>\n",
       "  <th>x10</th>   <td>   -0.0256</td> <td>    0.047</td> <td>   -0.541</td> <td> 0.589</td> <td>   -0.119</td> <td>    0.067</td>\n",
       "</tr>\n",
       "<tr>\n",
       "  <th>x11</th>   <td>    0.0678</td> <td>    0.046</td> <td>    1.471</td> <td> 0.142</td> <td>   -0.023</td> <td>    0.158</td>\n",
       "</tr>\n",
       "<tr>\n",
       "  <th>x12</th>   <td>   -0.0542</td> <td>    0.046</td> <td>   -1.177</td> <td> 0.240</td> <td>   -0.145</td> <td>    0.036</td>\n",
       "</tr>\n",
       "<tr>\n",
       "  <th>x13</th>   <td>    0.0009</td> <td>    0.053</td> <td>    0.016</td> <td> 0.987</td> <td>   -0.103</td> <td>    0.105</td>\n",
       "</tr>\n",
       "<tr>\n",
       "  <th>x14</th>   <td>    0.0384</td> <td>    0.053</td> <td>    0.729</td> <td> 0.466</td> <td>   -0.065</td> <td>    0.142</td>\n",
       "</tr>\n",
       "<tr>\n",
       "  <th>x15</th>   <td>   -0.0087</td> <td>    0.063</td> <td>   -0.137</td> <td> 0.891</td> <td>   -0.133</td> <td>    0.116</td>\n",
       "</tr>\n",
       "<tr>\n",
       "  <th>x16</th>   <td>    0.0062</td> <td>    0.055</td> <td>    0.114</td> <td> 0.910</td> <td>   -0.101</td> <td>    0.113</td>\n",
       "</tr>\n",
       "<tr>\n",
       "  <th>x17</th>   <td>   -0.1659</td> <td>    0.194</td> <td>   -0.857</td> <td> 0.392</td> <td>   -0.547</td> <td>    0.215</td>\n",
       "</tr>\n",
       "<tr>\n",
       "  <th>x18</th>   <td>    0.2037</td> <td>    0.116</td> <td>    1.760</td> <td> 0.079</td> <td>   -0.024</td> <td>    0.431</td>\n",
       "</tr>\n",
       "<tr>\n",
       "  <th>x19</th>   <td>    0.0388</td> <td>    0.130</td> <td>    0.299</td> <td> 0.765</td> <td>   -0.216</td> <td>    0.294</td>\n",
       "</tr>\n",
       "<tr>\n",
       "  <th>x20</th>   <td>   -0.0112</td> <td>    0.049</td> <td>   -0.228</td> <td> 0.820</td> <td>   -0.107</td> <td>    0.085</td>\n",
       "</tr>\n",
       "<tr>\n",
       "  <th>x21</th>   <td>   -0.0376</td> <td>    0.049</td> <td>   -0.763</td> <td> 0.446</td> <td>   -0.134</td> <td>    0.059</td>\n",
       "</tr>\n",
       "<tr>\n",
       "  <th>x22</th>   <td>   -0.0287</td> <td>    0.049</td> <td>   -0.588</td> <td> 0.557</td> <td>   -0.125</td> <td>    0.067</td>\n",
       "</tr>\n",
       "<tr>\n",
       "  <th>x23</th>   <td>   -0.1256</td> <td>    0.070</td> <td>   -1.799</td> <td> 0.073</td> <td>   -0.263</td> <td>    0.012</td>\n",
       "</tr>\n",
       "<tr>\n",
       "  <th>x24</th>   <td>   -0.0171</td> <td>    0.065</td> <td>   -0.263</td> <td> 0.792</td> <td>   -0.144</td> <td>    0.110</td>\n",
       "</tr>\n",
       "<tr>\n",
       "  <th>x25</th>   <td>    0.0603</td> <td>    0.081</td> <td>    0.746</td> <td> 0.456</td> <td>   -0.099</td> <td>    0.219</td>\n",
       "</tr>\n",
       "<tr>\n",
       "  <th>x26</th>   <td>   -0.0290</td> <td>    0.055</td> <td>   -0.527</td> <td> 0.598</td> <td>   -0.137</td> <td>    0.079</td>\n",
       "</tr>\n",
       "<tr>\n",
       "  <th>x27</th>   <td>    0.1469</td> <td>    0.046</td> <td>    3.185</td> <td> 0.002</td> <td>    0.056</td> <td>    0.237</td>\n",
       "</tr>\n",
       "<tr>\n",
       "  <th>x28</th>   <td>   -0.0245</td> <td>    0.051</td> <td>   -0.479</td> <td> 0.632</td> <td>   -0.125</td> <td>    0.076</td>\n",
       "</tr>\n",
       "<tr>\n",
       "  <th>x29</th>   <td>   -0.0591</td> <td>    0.044</td> <td>   -1.338</td> <td> 0.182</td> <td>   -0.146</td> <td>    0.028</td>\n",
       "</tr>\n",
       "<tr>\n",
       "  <th>x30</th>   <td>    0.0375</td> <td>    0.061</td> <td>    0.613</td> <td> 0.540</td> <td>   -0.083</td> <td>    0.158</td>\n",
       "</tr>\n",
       "</table>\n",
       "<table class=\"simpletable\">\n",
       "<tr>\n",
       "  <th>Omnibus:</th>       <td>159.785</td> <th>  Durbin-Watson:     </th> <td>   1.770</td> \n",
       "</tr>\n",
       "<tr>\n",
       "  <th>Prob(Omnibus):</th> <td> 0.000</td>  <th>  Jarque-Bera (JB):  </th> <td> 493.188</td> \n",
       "</tr>\n",
       "<tr>\n",
       "  <th>Skew:</th>          <td> 1.424</td>  <th>  Prob(JB):          </th> <td>8.05e-108</td>\n",
       "</tr>\n",
       "<tr>\n",
       "  <th>Kurtosis:</th>      <td> 6.771</td>  <th>  Cond. No.          </th> <td>    15.2</td> \n",
       "</tr>\n",
       "</table>"
      ],
      "text/plain": [
       "<class 'statsmodels.iolib.summary.Summary'>\n",
       "\"\"\"\n",
       "                            OLS Regression Results                            \n",
       "==============================================================================\n",
       "Dep. Variable:                      y   R-squared:                       0.136\n",
       "Model:                            OLS   Adj. R-squared:                  0.084\n",
       "Method:                 Least Squares   F-statistic:                     2.615\n",
       "Date:                Fri, 09 Feb 2018   Prob (F-statistic):           1.05e-05\n",
       "Time:                        14:31:18   Log-Likelihood:                -713.35\n",
       "No. Observations:                 530   AIC:                             1489.\n",
       "Df Residuals:                     499   BIC:                             1621.\n",
       "Df Model:                          30                                         \n",
       "Covariance Type:            nonrobust                                         \n",
       "==============================================================================\n",
       "                 coef    std err          t      P>|t|      [0.025      0.975]\n",
       "------------------------------------------------------------------------------\n",
       "const       1.041e-17      0.042    2.5e-16      1.000      -0.082       0.082\n",
       "x1             0.2602      0.097      2.685      0.007       0.070       0.451\n",
       "x2             0.0148      0.083      0.178      0.859      -0.149       0.178\n",
       "x3             0.0950      0.064      1.479      0.140      -0.031       0.221\n",
       "x4             0.0081      0.082      0.098      0.922      -0.153       0.169\n",
       "x5            -0.0742      0.049     -1.512      0.131      -0.171       0.022\n",
       "x6            -0.0025      0.043     -0.057      0.954      -0.087       0.082\n",
       "x7            -0.2017      0.199     -1.012      0.312      -0.593       0.190\n",
       "x8            -0.0762      0.051     -1.480      0.139      -0.177       0.025\n",
       "x9            -0.0171      0.046     -0.376      0.707      -0.107       0.073\n",
       "x10           -0.0256      0.047     -0.541      0.589      -0.119       0.067\n",
       "x11            0.0678      0.046      1.471      0.142      -0.023       0.158\n",
       "x12           -0.0542      0.046     -1.177      0.240      -0.145       0.036\n",
       "x13            0.0009      0.053      0.016      0.987      -0.103       0.105\n",
       "x14            0.0384      0.053      0.729      0.466      -0.065       0.142\n",
       "x15           -0.0087      0.063     -0.137      0.891      -0.133       0.116\n",
       "x16            0.0062      0.055      0.114      0.910      -0.101       0.113\n",
       "x17           -0.1659      0.194     -0.857      0.392      -0.547       0.215\n",
       "x18            0.2037      0.116      1.760      0.079      -0.024       0.431\n",
       "x19            0.0388      0.130      0.299      0.765      -0.216       0.294\n",
       "x20           -0.0112      0.049     -0.228      0.820      -0.107       0.085\n",
       "x21           -0.0376      0.049     -0.763      0.446      -0.134       0.059\n",
       "x22           -0.0287      0.049     -0.588      0.557      -0.125       0.067\n",
       "x23           -0.1256      0.070     -1.799      0.073      -0.263       0.012\n",
       "x24           -0.0171      0.065     -0.263      0.792      -0.144       0.110\n",
       "x25            0.0603      0.081      0.746      0.456      -0.099       0.219\n",
       "x26           -0.0290      0.055     -0.527      0.598      -0.137       0.079\n",
       "x27            0.1469      0.046      3.185      0.002       0.056       0.237\n",
       "x28           -0.0245      0.051     -0.479      0.632      -0.125       0.076\n",
       "x29           -0.0591      0.044     -1.338      0.182      -0.146       0.028\n",
       "x30            0.0375      0.061      0.613      0.540      -0.083       0.158\n",
       "==============================================================================\n",
       "Omnibus:                      159.785   Durbin-Watson:                   1.770\n",
       "Prob(Omnibus):                  0.000   Jarque-Bera (JB):              493.188\n",
       "Skew:                           1.424   Prob(JB):                    8.05e-108\n",
       "Kurtosis:                       6.771   Cond. No.                         15.2\n",
       "==============================================================================\n",
       "\n",
       "Warnings:\n",
       "[1] Standard Errors assume that the covariance matrix of the errors is correctly specified.\n",
       "\"\"\""
      ]
     },
     "execution_count": 293,
     "metadata": {},
     "output_type": "execute_result"
    }
   ],
   "source": [
    "# use statsmodels to get the nice table\n",
    "import statsmodels.api as sm\n",
    "from sklearn.preprocessing import scale\n",
    "\n",
    "# add an intercept (beta_0) to our model\n",
    "Xint = sm.add_constant(Xs)\n",
    "# train the model\n",
    "model = sm.OLS(ys, Xint).fit()\n",
    "# make the predictions by the model\n",
    "predictions = model.predict(Xint)\n",
    "\n",
    "# calc residuals\n",
    "residuals = ys - predictions\n",
    "\n",
    "# Print out the statistics\n",
    "model.summary()"
   ]
  },
  {
   "cell_type": "code",
   "execution_count": 306,
   "metadata": {},
   "outputs": [
    {
     "data": {
      "text/plain": [
       "<matplotlib.collections.PathCollection at 0x1a29f9bd30>"
      ]
     },
     "execution_count": 306,
     "metadata": {},
     "output_type": "execute_result"
    },
    {
     "data": {
      "image/png": "[encoded data removed]",
      "text/plain": [
       "<matplotlib.figure.Figure at 0x1a2b94f6a0>"
      ]
     },
     "metadata": {},
     "output_type": "display_data"
    }
   ],
   "source": [
    "# plot residuals - should be randomly distributed around y=0 line\n",
    "plt.figure()\n",
    "plt.scatter(range(np.size(Xs, axis=0)), residuals)"
   ]
  },
  {
   "cell_type": "code",
   "execution_count": 312,
   "metadata": {},
   "outputs": [
    {
     "data": {
      "image/png": "[encoded data removed]",
      "text/plain": [
       "<matplotlib.figure.Figure at 0x1a28707ac8>"
      ]
     },
     "metadata": {},
     "output_type": "display_data"
    }
   ],
   "source": [
    "# plot histogram of residuals\n",
    "import scipy.stats as stats\n",
    "plt.figure()\n",
    "h = sorted(residuals)\n",
    "fit = stats.norm.pdf(h, np.mean(h), np.std(h))\n",
    "plt.plot(h,fit)\n",
    "plt.hist(residuals,alpha=0.5,normed=True)\n",
    "plt.show()"
   ]
  },
  {
   "cell_type": "code",
   "execution_count": 287,
   "metadata": {},
   "outputs": [
    {
     "name": "stdout",
     "output_type": "stream",
     "text": [
      "[ 0.06647136 -0.07674884 -0.09131377  0.36407809  0.46713725]\n"
     ]
    }
   ],
   "source": [
    "# use sklearn to \n",
    "from sklearn import linear_model\n",
    "\n",
    "# fit the model\n",
    "lm = linear_model.LinearRegression()\n",
    "model = lm.fit(Xs,ys)\n",
    "\n",
    "# make predictions\n",
    "predictions = lm.predict(Xs)\n",
    "print(predictions[0:5])"
   ]
  },
  {
   "cell_type": "code",
   "execution_count": 288,
   "metadata": {},
   "outputs": [
    {
     "data": {
      "text/plain": [
       "0.13583972451575632"
      ]
     },
     "execution_count": 288,
     "metadata": {},
     "output_type": "execute_result"
    }
   ],
   "source": [
    "# get R² score\n",
    "lm.score(Xs,ys)"
   ]
  },
  {
   "cell_type": "code",
   "execution_count": 289,
   "metadata": {},
   "outputs": [
    {
     "data": {
      "text/plain": [
       "array([ 0.26022795,  0.0147772 ,  0.09501114,  0.00805417, -0.07424205,\n",
       "       -0.00247396, -0.201735  , -0.0761614 , -0.01714108, -0.02560513,\n",
       "        0.06782196, -0.05421179,  0.00085274,  0.03839427, -0.00870981,\n",
       "        0.00620803, -0.16593858,  0.20374992,  0.03878539, -0.01117533,\n",
       "       -0.03756666, -0.02874332, -0.1255863 , -0.01705273,  0.06030054,\n",
       "       -0.02902365,  0.14687283, -0.02445065, -0.05910179,  0.03749407])"
      ]
     },
     "execution_count": 289,
     "metadata": {},
     "output_type": "execute_result"
    }
   ],
   "source": [
    "# get regression coefficients\n",
    "lm.coef_"
   ]
  },
  {
   "cell_type": "code",
   "execution_count": 290,
   "metadata": {},
   "outputs": [
    {
     "data": {
      "text/plain": [
       "3.4884336867689917e-16"
      ]
     },
     "execution_count": 290,
     "metadata": {},
     "output_type": "execute_result"
    }
   ],
   "source": [
    "# get intercept\n",
    "lm.intercept_"
   ]
  },
  {
   "cell_type": "markdown",
   "metadata": {},
   "source": [
    "<h3>Chi Square Values</h3>"
   ]
  },
  {
   "cell_type": "code",
   "execution_count": 108,
   "metadata": {},
   "outputs": [
    {
     "name": "stdout",
     "output_type": "stream",
     "text": [
      "var=VoitureDansGarage.DGG3n, c=21.587253286874844, p=0.010283291007544665\n",
      "var=Fumeurs.FUMEURn, c=6.565995618471254, p=0.6822034719709584\n",
      "var=Plantes.QPV, c=2.9238169413998087, p=0.9672388285304578\n",
      "var=TraitementParasitesAnimaux.ANTCPn, c=12.002201780476465, p=0.06191970342434454\n",
      "var=SortirOrduresExterieur.QOM1, c=6.611216149328133, p=0.3583014474187431\n",
      "var=Bricolage.TMG6n, c=14.05219080677898, p=0.2973878901471586\n",
      "var=Jardinage.TMG7n, c=25.271286617714452, p=0.013588372719398327\n",
      "var=Age, c=183.0423220796017, p=0.8133450464502568\n",
      "var=Revenus, c=27.664541714128163, p=0.2744428419065181\n",
      "var=Nb_Person, c=26.73265078160265, p=0.17987861270988253\n",
      "var=Nb_Enfants_inf_10, c=22.845980473987858, p=0.006551646532792153\n",
      "var=Nb_Enfants_sup_10, c=5.026763254046062, p=0.8319690239889609\n",
      "var=Sexe, c=3.86506681113483, p=0.2764079430518957\n",
      "var=Diplome_Max, c=28.338101067619014, p=0.24603793465948376\n",
      "var=Type_Prof, c=18.75342859046773, p=0.40715265515652427\n",
      "var=Occupation, c=25.203785475502052, p=0.04727266257087749\n",
      "var=Source_ppale_Res, c=18.899760191887285, p=0.09097641079529134\n",
      "var=Structure_menage, c=14.223514294572183, p=0.11459357643067483\n",
      "var=HSRF, c=400.35593271896585, p=0.38801234057071343\n",
      "var=NIACe1, c=51.95901129378738, p=0.0026820815648879027\n",
      "var=CHEM1, c=1.506067889578036, p=0.680870574373168\n",
      "var=DCA3e1, c=6.917361687192268, p=0.32855725305241834\n",
      "var=FC316, c=6.348823401335816, p=0.09581904443765285\n"
     ]
    }
   ],
   "source": [
    "from scipy.stats import chi2_contingency\n",
    "\n",
    "qualvarlist = ['VoitureDansGarage.DGG3n', 'Fumeurs.FUMEURn','Plantes.QPV','TraitementParasitesAnimaux.ANTCPn','SortirOrduresExterieur.QOM1','Bricolage.TMG6n','Jardinage.TMG7n','Age','Revenus','Nb_Person','Nb_Enfants_inf_10','Nb_Enfants_sup_10','Sexe','Diplome_Max','Type_Prof','Occupation','Source_ppale_Res','Structure_menage','HSRF','NIACe1','CHEM1','DCA3e1','FC316']\n",
    "\n",
    "# get chisq vals for all quar vars against formaldehyde\n",
    "for var in qualvarlist:\n",
    "    # Contingency table.\n",
    "    contingency = pd.crosstab(data[var], data['Formaldehyde_bin'])\n",
    "\n",
    "    # Chi-square test of independence.\n",
    "    c, p, dof, expected = chi2_contingency(contingency)\n",
    "    print(\"var={}, c={}, p={}\".format(var, c, p))\n",
    "    \n",
    "# Significant vars:\n",
    "# var=VoitureDansGarage.DGG3n, c=21.587253286874844, p=0.010283291007544665\n",
    "# var=TraitementParasitesAnimaux.ANTCPn, c=12.002201780476465, p=0.06191970342434454\n",
    "# var=Jardinage.TMG7n, c=25.271286617714452, p=0.013588372719398327\n",
    "# var=Nb_Enfants_inf_10, c=22.845980473987858, p=0.006551646532792153\n",
    "# var=NIACe1, c=51.95901129378738, p=0.0026820815648879027"
   ]
  },
  {
   "cell_type": "code",
   "execution_count": 138,
   "metadata": {},
   "outputs": [
    {
     "data": {
      "image/png": "[encoded data removed]",
      "text/plain": [
       "<matplotlib.figure.Figure at 0x1a268bb208>"
      ]
     },
     "metadata": {},
     "output_type": "display_data"
    },
    {
     "data": {
      "image/png": "[encoded data removed]",
      "text/plain": [
       "<matplotlib.figure.Figure at 0x1a29ad8ba8>"
      ]
     },
     "metadata": {},
     "output_type": "display_data"
    }
   ],
   "source": [
    "plt.figure()\n",
    "plt.scatter(data['HSRF'],np.divide(data_orig['Formaldehyde'],data['HSRF']))\n",
    "# plt.axis([0, 220, 0, 2.5])\n",
    "\n",
    "plt.figure()\n",
    "plt.scatter(data['HSRF'],data_orig['Formaldehyde'])\n",
    "# plt.axis([0, 220, 0, 70])\n"
   ]
  },
  {
   "cell_type": "code",
   "execution_count": 190,
   "metadata": {},
   "outputs": [
    {
     "name": "stdout",
     "output_type": "stream",
     "text": [
      "11.705\n",
      "16.005\n",
      "23.632499999999997\n"
     ]
    }
   ],
   "source": [
    "# create new variable based on ratio of form to house size\n",
    "formaldehyde = data_orig['Formaldehyde']\n",
    "form_norm = pd.DataFrame(columns=['form_norm'])\n",
    "form_norm['form_norm'] = np.divide(data_orig['Formaldehyde'],data['HSRF'])\n",
    "\n",
    "# find quartiles formaldehyde\n",
    "f1 = formaldehyde.quantile(0.25)\n",
    "f2 = formaldehyde.quantile(0.5)\n",
    "f3 = formaldehyde.quantile(0.75)\n",
    "# 11.705\n",
    "# 16.005\n",
    "# 23.6324\n",
    "\n",
    "# find quartiles form_norm\n",
    "l1 = form_norm.quantile(0.25)\n",
    "l2 = form_norm.quantile(0.5)\n",
    "l3 = form_norm.quantile(0.75)\n",
    "\n",
    "print(f1)\n",
    "print(f2)\n",
    "print(f3)"
   ]
  },
  {
   "cell_type": "code",
   "execution_count": 147,
   "metadata": {},
   "outputs": [
    {
     "data": {
      "text/html": [
       "<div>\n",
       "<style scoped>\n",
       "    .dataframe tbody tr th:only-of-type {\n",
       "        vertical-align: middle;\n",
       "    }\n",
       "\n",
       "    .dataframe tbody tr th {\n",
       "        vertical-align: top;\n",
       "    }\n",
       "\n",
       "    .dataframe thead th {\n",
       "        text-align: right;\n",
       "    }\n",
       "</style>\n",
       "<table border=\"1\" class=\"dataframe\">\n",
       "  <thead>\n",
       "    <tr style=\"text-align: right;\">\n",
       "      <th></th>\n",
       "      <th>Formaldehyde</th>\n",
       "      <th>form_norm</th>\n",
       "    </tr>\n",
       "  </thead>\n",
       "  <tbody>\n",
       "    <tr>\n",
       "      <th>0</th>\n",
       "      <td>12.26</td>\n",
       "      <td>1.021667</td>\n",
       "    </tr>\n",
       "    <tr>\n",
       "      <th>1</th>\n",
       "      <td>10.17</td>\n",
       "      <td>0.145286</td>\n",
       "    </tr>\n",
       "    <tr>\n",
       "      <th>2</th>\n",
       "      <td>21.55</td>\n",
       "      <td>0.538750</td>\n",
       "    </tr>\n",
       "    <tr>\n",
       "      <th>3</th>\n",
       "      <td>11.03</td>\n",
       "      <td>0.147067</td>\n",
       "    </tr>\n",
       "    <tr>\n",
       "      <th>4</th>\n",
       "      <td>16.99</td>\n",
       "      <td>0.339800</td>\n",
       "    </tr>\n",
       "  </tbody>\n",
       "</table>\n",
       "</div>"
      ],
      "text/plain": [
       "   Formaldehyde  form_norm\n",
       "0         12.26   1.021667\n",
       "1         10.17   0.145286\n",
       "2         21.55   0.538750\n",
       "3         11.03   0.147067\n",
       "4         16.99   0.339800"
      ]
     },
     "execution_count": 147,
     "metadata": {},
     "output_type": "execute_result"
    }
   ],
   "source": [
    "# concat form values with form_norm values\n",
    "form_and_norm = pd.concat([formaldehyde, form_norm],axis=1)\n",
    "form_and_norm.head()"
   ]
  },
  {
   "cell_type": "code",
   "execution_count": 195,
   "metadata": {},
   "outputs": [
    {
     "name": "stdout",
     "output_type": "stream",
     "text": [
      "530\n"
     ]
    }
   ],
   "source": [
    "# quantise form based on form_norm quartiles\n",
    "form2 = []\n",
    "# for each element in formaldehyde\n",
    "for i in range (0,len(form_and_norm['form_norm'])):\n",
    "    if form_and_norm['form_norm'][i] <= 0.105:\n",
    "        form2.append('1')\n",
    "    if form_and_norm['form_norm'][i] > 0.105 and form_and_norm['form_norm'][i] <= 0.284:\n",
    "        form2.append('2')\n",
    "    if form_and_norm['form_norm'][i] > 0.284:\n",
    "        form2.append('3')\n",
    "\n",
    "form3 = []\n",
    "for i in range (0,len(formaldehyde)):\n",
    "    if formaldehyde[i] <= 11.7:\n",
    "        form3.append(1)\n",
    "    if formaldehyde[i] > 11.7 and formaldehyde[i] <= 23.63:\n",
    "        form3.append(2)\n",
    "    if formaldehyde[i] > 23.63:\n",
    "        form3.append(3)\n",
    "        \n",
    "print(len(form3))"
   ]
  },
  {
   "cell_type": "code",
   "execution_count": 342,
   "metadata": {},
   "outputs": [
    {
     "data": {
      "text/plain": [
       "0.33962264150943394"
      ]
     },
     "execution_count": 342,
     "metadata": {},
     "output_type": "execute_result"
    }
   ],
   "source": [
    "from sklearn.neural_network import MLPClassifier\n",
    "from sklearn.model_selection import train_test_split\n",
    "from sklearn.metrics import accuracy_score\n",
    "\n",
    "form2_df = pd.DataFrame(form2,columns=['form_qual'])\n",
    "form3_df = pd.DataFrame(form3,columns=['form_qual'])\n",
    "\n",
    "# hab_qual_def = hab_qual[['VoitureDansGarage.DGG3n','Fumeurs.FUMEURn','Bricolage.TMG6n','Jardinage.TMG7n']]\n",
    "# men_qual_def = men_qual[['Diplome_Max','Type_Prof','Occupation','Source_ppale_Res']]\n",
    "\n",
    "# qualvars = data[['VoitureDansGarage.DGG3n','TraitementParasitesAnimaux.ANTCPn','Jardinage.TMG7n','Nb_Enfants_inf_10']]\n",
    "qualvars = data[['VoitureDansGarage.DGG3n','Fumeurs.FUMEURn','Bricolage.TMG6n','Jardinage.TMG7n']]\n",
    "\n",
    "# make dtype category so dummies method works\n",
    "for i in range(0,qualvars.shape[1]):\n",
    "    qualvars[qualvars.columns[i]] = qualvars[qualvars.columns[i]].astype('category')\n",
    "    \n",
    "for i in range(0,form2_df.shape[1]):\n",
    "    form2_df[form2_df.columns[i]] = form2_df[form2_df.columns[i]].astype('category')\n",
    "\n",
    "for i in range(0,form3_df.shape[1]):\n",
    "    form3_df[form3_df.columns[i]] = form3_df[form3_df.columns[i]].astype('category')\n",
    "\n",
    "# make one-hot dummies of x and y\n",
    "qualvars_dummies = pd.get_dummies(qualvars)\n",
    "fdh_dummies2 = pd.get_dummies(form2_df)\n",
    "fdh_dummies3 = pd.get_dummies(form3_df)\n",
    "\n",
    "varnum = len(qualvars_dummies.columns)\n",
    "X_train, X_test, y_train, y_test = train_test_split(qualvars_dummies, fdh_dummies3, test_size=0.10)\n",
    "\n",
    "mlpclassifier = MLPClassifier(solver='lbfgs', alpha=1e-5, hidden_layer_sizes=(varnum, 2), random_state=1)\n",
    "mlpclassifier.fit(X_train, y_train)\n",
    "\n",
    "# cvscore = cross_val_score(mlpclassifier, qualvars_dummies, fdh_dummies2, cv=10)\n",
    "# print(cvscore)\n",
    "# print(np.mean(cvscore))\n",
    "\n",
    "prediction = mlpclassifier.predict(X_test)\n",
    "accuracy_score(y_test, prediction)\n"
   ]
  },
  {
   "cell_type": "code",
   "execution_count": 334,
   "metadata": {},
   "outputs": [
    {
     "data": {
      "image/png": "[encoded data removed]",
      "text/plain": [
       "<matplotlib.figure.Figure at 0x1a2644ae48>"
      ]
     },
     "metadata": {},
     "output_type": "display_data"
    }
   ],
   "source": [
    "# form3_df.head()\n",
    "\n",
    "plt.figure()\n",
    "# form3_df['form_qual'].hist()\n",
    "\n",
    "plt.hist(np.array(form3), bins=3, alpha=0.5)\n",
    "# plt.title('Random Gaussian data (fixed bin size)')\n",
    "# plt.xlabel('variable X (bin size = 5)')\n",
    "# plt.ylabel('count')\n",
    "\n",
    "plt.show()"
   ]
  },
  {
   "cell_type": "code",
   "execution_count": 205,
   "metadata": {},
   "outputs": [
    {
     "data": {
      "text/html": [
       "<div>\n",
       "<style scoped>\n",
       "    .dataframe tbody tr th:only-of-type {\n",
       "        vertical-align: middle;\n",
       "    }\n",
       "\n",
       "    .dataframe tbody tr th {\n",
       "        vertical-align: top;\n",
       "    }\n",
       "\n",
       "    .dataframe thead th {\n",
       "        text-align: right;\n",
       "    }\n",
       "</style>\n",
       "<table border=\"1\" class=\"dataframe\">\n",
       "  <thead>\n",
       "    <tr style=\"text-align: right;\">\n",
       "      <th></th>\n",
       "      <th>VoitureDansGarage.DGG3n_1</th>\n",
       "      <th>VoitureDansGarage.DGG3n_2</th>\n",
       "      <th>VoitureDansGarage.DGG3n_3</th>\n",
       "      <th>VoitureDansGarage.DGG3n_4</th>\n",
       "      <th>Fumeurs.FUMEURn_1</th>\n",
       "      <th>Fumeurs.FUMEURn_2</th>\n",
       "      <th>Fumeurs.FUMEURn_3</th>\n",
       "      <th>Fumeurs.FUMEURn_4</th>\n",
       "      <th>Bricolage.TMG6n_1</th>\n",
       "      <th>Bricolage.TMG6n_2</th>\n",
       "      <th>Bricolage.TMG6n_3</th>\n",
       "      <th>Bricolage.TMG6n_4</th>\n",
       "      <th>Bricolage.TMG6n_5</th>\n",
       "      <th>Jardinage.TMG7n_1</th>\n",
       "      <th>Jardinage.TMG7n_2</th>\n",
       "      <th>Jardinage.TMG7n_3</th>\n",
       "      <th>Jardinage.TMG7n_4</th>\n",
       "      <th>Jardinage.TMG7n_5</th>\n",
       "    </tr>\n",
       "  </thead>\n",
       "  <tbody>\n",
       "    <tr>\n",
       "      <th>0</th>\n",
       "      <td>0</td>\n",
       "      <td>0</td>\n",
       "      <td>0</td>\n",
       "      <td>1</td>\n",
       "      <td>0</td>\n",
       "      <td>0</td>\n",
       "      <td>1</td>\n",
       "      <td>0</td>\n",
       "      <td>1</td>\n",
       "      <td>0</td>\n",
       "      <td>0</td>\n",
       "      <td>0</td>\n",
       "      <td>0</td>\n",
       "      <td>1</td>\n",
       "      <td>0</td>\n",
       "      <td>0</td>\n",
       "      <td>0</td>\n",
       "      <td>0</td>\n",
       "    </tr>\n",
       "    <tr>\n",
       "      <th>1</th>\n",
       "      <td>0</td>\n",
       "      <td>0</td>\n",
       "      <td>0</td>\n",
       "      <td>1</td>\n",
       "      <td>0</td>\n",
       "      <td>1</td>\n",
       "      <td>0</td>\n",
       "      <td>0</td>\n",
       "      <td>1</td>\n",
       "      <td>0</td>\n",
       "      <td>0</td>\n",
       "      <td>0</td>\n",
       "      <td>0</td>\n",
       "      <td>1</td>\n",
       "      <td>0</td>\n",
       "      <td>0</td>\n",
       "      <td>0</td>\n",
       "      <td>0</td>\n",
       "    </tr>\n",
       "    <tr>\n",
       "      <th>2</th>\n",
       "      <td>0</td>\n",
       "      <td>0</td>\n",
       "      <td>0</td>\n",
       "      <td>1</td>\n",
       "      <td>1</td>\n",
       "      <td>0</td>\n",
       "      <td>0</td>\n",
       "      <td>0</td>\n",
       "      <td>1</td>\n",
       "      <td>0</td>\n",
       "      <td>0</td>\n",
       "      <td>0</td>\n",
       "      <td>0</td>\n",
       "      <td>1</td>\n",
       "      <td>0</td>\n",
       "      <td>0</td>\n",
       "      <td>0</td>\n",
       "      <td>0</td>\n",
       "    </tr>\n",
       "    <tr>\n",
       "      <th>3</th>\n",
       "      <td>0</td>\n",
       "      <td>0</td>\n",
       "      <td>0</td>\n",
       "      <td>1</td>\n",
       "      <td>1</td>\n",
       "      <td>0</td>\n",
       "      <td>0</td>\n",
       "      <td>0</td>\n",
       "      <td>0</td>\n",
       "      <td>0</td>\n",
       "      <td>1</td>\n",
       "      <td>0</td>\n",
       "      <td>0</td>\n",
       "      <td>0</td>\n",
       "      <td>0</td>\n",
       "      <td>1</td>\n",
       "      <td>0</td>\n",
       "      <td>0</td>\n",
       "    </tr>\n",
       "    <tr>\n",
       "      <th>4</th>\n",
       "      <td>0</td>\n",
       "      <td>0</td>\n",
       "      <td>0</td>\n",
       "      <td>1</td>\n",
       "      <td>0</td>\n",
       "      <td>1</td>\n",
       "      <td>0</td>\n",
       "      <td>0</td>\n",
       "      <td>0</td>\n",
       "      <td>0</td>\n",
       "      <td>0</td>\n",
       "      <td>1</td>\n",
       "      <td>0</td>\n",
       "      <td>1</td>\n",
       "      <td>0</td>\n",
       "      <td>0</td>\n",
       "      <td>0</td>\n",
       "      <td>0</td>\n",
       "    </tr>\n",
       "  </tbody>\n",
       "</table>\n",
       "</div>"
      ],
      "text/plain": [
       "   VoitureDansGarage.DGG3n_1  VoitureDansGarage.DGG3n_2  \\\n",
       "0                          0                          0   \n",
       "1                          0                          0   \n",
       "2                          0                          0   \n",
       "3                          0                          0   \n",
       "4                          0                          0   \n",
       "\n",
       "   VoitureDansGarage.DGG3n_3  VoitureDansGarage.DGG3n_4  Fumeurs.FUMEURn_1  \\\n",
       "0                          0                          1                  0   \n",
       "1                          0                          1                  0   \n",
       "2                          0                          1                  1   \n",
       "3                          0                          1                  1   \n",
       "4                          0                          1                  0   \n",
       "\n",
       "   Fumeurs.FUMEURn_2  Fumeurs.FUMEURn_3  Fumeurs.FUMEURn_4  Bricolage.TMG6n_1  \\\n",
       "0                  0                  1                  0                  1   \n",
       "1                  1                  0                  0                  1   \n",
       "2                  0                  0                  0                  1   \n",
       "3                  0                  0                  0                  0   \n",
       "4                  1                  0                  0                  0   \n",
       "\n",
       "   Bricolage.TMG6n_2  Bricolage.TMG6n_3  Bricolage.TMG6n_4  Bricolage.TMG6n_5  \\\n",
       "0                  0                  0                  0                  0   \n",
       "1                  0                  0                  0                  0   \n",
       "2                  0                  0                  0                  0   \n",
       "3                  0                  1                  0                  0   \n",
       "4                  0                  0                  1                  0   \n",
       "\n",
       "   Jardinage.TMG7n_1  Jardinage.TMG7n_2  Jardinage.TMG7n_3  Jardinage.TMG7n_4  \\\n",
       "0                  1                  0                  0                  0   \n",
       "1                  1                  0                  0                  0   \n",
       "2                  1                  0                  0                  0   \n",
       "3                  0                  0                  1                  0   \n",
       "4                  1                  0                  0                  0   \n",
       "\n",
       "   Jardinage.TMG7n_5  \n",
       "0                  0  \n",
       "1                  0  \n",
       "2                  0  \n",
       "3                  0  \n",
       "4                  0  "
      ]
     },
     "execution_count": 205,
     "metadata": {},
     "output_type": "execute_result"
    }
   ],
   "source": [
    "# X_train.head()\n",
    "# print(prediction)\n",
    "# print(y_test)\n",
    "# print(X_test)\n",
    "# data[['VoitureDansGarage.DGG3n','TraitementParasitesAnimaux.ANTCPn','Jardinage.TMG7n','Nb_Enfants_inf_10','NIACe1']]\n",
    "\n",
    "qualvars_dummies.head()\n",
    "# fdh_dummies.head()"
   ]
  },
  {
   "cell_type": "code",
   "execution_count": null,
   "metadata": {
    "collapsed": true
   },
   "outputs": [],
   "source": []
  }
 ],
 "metadata": {
  "kernelspec": {
   "display_name": "Python 3",
   "language": "python",
   "name": "python3"
  },
  "language_info": {
   "codemirror_mode": {
    "name": "ipython",
    "version": 3
   },
   "file_extension": ".py",
   "mimetype": "text/x-python",
   "name": "python",
   "nbconvert_exporter": "python",
   "pygments_lexer": "ipython3",
   "version": "3.6.4"
  }
 },
 "nbformat": 4,
 "nbformat_minor": 2
}
